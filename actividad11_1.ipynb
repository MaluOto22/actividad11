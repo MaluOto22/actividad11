{
 "cells": [
  {
   "cell_type": "code",
   "execution_count": 35,
   "metadata": {},
   "outputs": [
    {
     "name": "stdout",
     "output_type": "stream",
     "text": [
      "(7, 63)\n",
      "(489, 63)\n",
      "(264, 63)\n",
      "Filtro de anioos (6885, 63)\n"
     ]
    }
   ],
   "source": [
    "import pandas as pd\n",
    "df=pd.read_csv(\"Exportaciones.csv\")\n",
    "df\n",
    "filtro1=df[df['iso3']==\"alb\"]\n",
    "filtro1\n",
    "filtro2=filtro1[filtro1['h_insurance']>0.5]\n",
    "filtro2\n",
    "# o (filtro1=df[df['iso3']==\"alb\"] & df[df['h_insurance']>0.5])\n",
    "print(filtro2.shape)\n",
    "filtro3=df[df[\"sector_GMatrix\"]==\"insurance\"]\n",
    "filtro4=filtro3[filtro3[\"g_procfoods\"]>7]\n",
    "print(filtro3.shape)\n",
    "print(filtro4.shape)\n",
    "filtro5=(df[df['year']>=1997])\n",
    "filtro6=(filtro5[filtro5['year']<=2005])\n",
    "#filtro6=(df[df['year']>=1997 & df['year']<=2005])\n",
    "print(\"Filtro de anioos\",filtro6.shape)"
   ]
  }
 ],
 "metadata": {
  "kernelspec": {
   "display_name": "Python 3.10.6 64-bit",
   "language": "python",
   "name": "python3"
  },
  "language_info": {
   "codemirror_mode": {
    "name": "ipython",
    "version": 3
   },
   "file_extension": ".py",
   "mimetype": "text/x-python",
   "name": "python",
   "nbconvert_exporter": "python",
   "pygments_lexer": "ipython3",
   "version": "3.10.6"
  },
  "orig_nbformat": 4,
  "vscode": {
   "interpreter": {
    "hash": "5004f994e3aa0378a3817c647b5a3a1a03f554c31e54d350404449431869ab39"
   }
  }
 },
 "nbformat": 4,
 "nbformat_minor": 2
}
